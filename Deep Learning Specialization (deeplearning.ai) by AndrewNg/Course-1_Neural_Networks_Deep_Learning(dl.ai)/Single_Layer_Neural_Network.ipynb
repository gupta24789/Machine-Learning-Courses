{
 "cells": [
  {
   "cell_type": "markdown",
   "metadata": {},
   "source": [
    "### Single Layer Neural Network"
   ]
  },
  {
   "cell_type": "code",
   "execution_count": 1,
   "metadata": {},
   "outputs": [],
   "source": [
    "import pandas as pd\n",
    "import numpy as np\n",
    "import h5py\n",
    "from sklearn.metrics import classification_report, accuracy_score\n",
    "\n",
    "import matplotlib.pyplot as plt\n",
    "%matplotlib inline"
   ]
  },
  {
   "cell_type": "markdown",
   "metadata": {},
   "source": [
    "### Load dataset"
   ]
  },
  {
   "cell_type": "code",
   "execution_count": 2,
   "metadata": {},
   "outputs": [],
   "source": [
    "def load_data():\n",
    "\n",
    "    train = h5py.File('./datasets/train_catvnoncat.h5')\n",
    "    train_keys = [key for key in train.keys()]\n",
    "\n",
    "    test = h5py.File('./datasets/test_catvnoncat.h5')\n",
    "    test_keys = [key for key in test.keys()]\n",
    "\n",
    "    print(\"Keys in train data : \",train_keys)\n",
    "    print(\"Keys in test data : \",test_keys)\n",
    "\n",
    "    classes = train['list_classes'].value\n",
    "\n",
    "    original_train_x = train['train_set_x'].value\n",
    "    original_train_y = train['train_set_y'].value\n",
    "\n",
    "    original_test_x = test['test_set_x'].value\n",
    "    original_test_y = test['test_set_y'].value\n",
    "\n",
    "    print(\"Train data shape :\",original_train_x.shape)\n",
    "    print(\"Test data shape :\",original_test_x.shape)\n",
    "    print(\"Output values :\",classes)\n",
    "\n",
    "    return original_train_x,original_train_y,original_test_x,original_test_y"
   ]
  },
  {
   "cell_type": "code",
   "execution_count": 3,
   "metadata": {},
   "outputs": [],
   "source": [
    "def prepare_data(train_X,train_y,test_X,test_y):\n",
    "    \n",
    "    train_X = train_X.reshape((train_X.shape[0],-1))\n",
    "    test_X = test_X.reshape((test_X.shape[0],-1))\n",
    "\n",
    "    train_X = train_X.T\n",
    "    test_X = test_X.T\n",
    "    train_y = train_y.reshape((1,train_y.shape[0]))\n",
    "    test_y = test_y.reshape((1,test_y.shape[0]))\n",
    "    \n",
    "    print(\"train_X shape :\",train_X.shape)\n",
    "    print(\"train_y shape :\",train_y.shape)\n",
    "    print(\"test_X shape :\",test_X.shape)\n",
    "    print(\"test_y shape :\",test_y.shape)\n",
    "    \n",
    "    return train_X,train_y,test_X,test_y"
   ]
  },
  {
   "cell_type": "code",
   "execution_count": 4,
   "metadata": {},
   "outputs": [],
   "source": [
    "def sigmoid(z):\n",
    "    return 1/(1+np.exp(-z))"
   ]
  },
  {
   "cell_type": "code",
   "execution_count": 5,
   "metadata": {},
   "outputs": [],
   "source": [
    "def initialize_weights(train_X):\n",
    "    w = np.zeros((train_X.shape[0],1)) * np.random.rand() *0.05\n",
    "    b = 0\n",
    "    return w,b"
   ]
  },
  {
   "cell_type": "code",
   "execution_count": 6,
   "metadata": {},
   "outputs": [],
   "source": [
    "def forward_prop(train_X,train_y,w,b):\n",
    "\n",
    "    z = np.dot(w.T,train_X) + b\n",
    "    a = sigmoid(z)\n",
    "    \n",
    "    m = train_X.shape[1]\n",
    "    \n",
    "    loss = (train_y*np.log(a))+ ((1-train_y)*np.log(1-a))\n",
    "    cost = -(1/m) * np.sum(loss)\n",
    "    return z,a,cost"
   ]
  },
  {
   "cell_type": "code",
   "execution_count": 7,
   "metadata": {},
   "outputs": [],
   "source": [
    "def gradient(w,b,dw,db,learning_rate):\n",
    "    w = w - learning_rate * dw\n",
    "    b = b - learning_rate * db\n",
    "    \n",
    "    return w,b"
   ]
  },
  {
   "cell_type": "code",
   "execution_count": 8,
   "metadata": {},
   "outputs": [],
   "source": [
    "def back_prop(train_X,train_y,a):\n",
    "    \n",
    "    dz = a - train_y\n",
    "    dw = np.dot(train_X,dz.T)\n",
    "    db = np.sum(dz)\n",
    "    \n",
    "    return dz,dw,db"
   ]
  },
  {
   "cell_type": "code",
   "execution_count": 9,
   "metadata": {},
   "outputs": [],
   "source": [
    "def model(train_X,train_y,iteration,learning_rate):\n",
    "    \n",
    "    w,b = initialize_weights(train_X)\n",
    "    z,a,cost = forward_prop(train_X,train_y,w,b)\n",
    "    dz,dw,db = back_prop(train_X,train_y,a)\n",
    "    \n",
    "    costs = []\n",
    "    for i in range(iteration):\n",
    "        \n",
    "        w,b = gradient(w,b,dw,db,learning_rate)\n",
    "        z,a,cost  = forward_prop(train_X,train_y,w,b)\n",
    "        dz,dw,db = back_prop(train_X,train_y,a)\n",
    "        \n",
    "        if i%100==0:\n",
    "            costs.append(cost)\n",
    "            print(\"Iteration {} : {}\".format(i,cost))\n",
    "            \n",
    "    dw = dw/train_X.shape[1]\n",
    "    db = db/train_X.shape[1]\n",
    "    \n",
    "    return a,z,w,b,dw,db,costs"
   ]
  },
  {
   "cell_type": "code",
   "execution_count": 10,
   "metadata": {},
   "outputs": [],
   "source": [
    "def predict(X,w,b):\n",
    "    \n",
    "#     print(w.shape)\n",
    "#     print(X.shape)\n",
    "    w = w.reshape((X.shape[0],1))\n",
    "    z = np.dot(w.T,X) + b\n",
    "    a = sigmoid(z)\n",
    "    \n",
    "    predicted_class = np.where(a>0.5,1,0)\n",
    "    return a,predicted_class"
   ]
  },
  {
   "cell_type": "code",
   "execution_count": 11,
   "metadata": {},
   "outputs": [],
   "source": [
    "def model_accuracy(a,y):\n",
    "    print(\"Accuracy : {}%\".format(accuracy_score(np.ravel(y),np.ravel(a))*100))"
   ]
  },
  {
   "cell_type": "code",
   "execution_count": 12,
   "metadata": {},
   "outputs": [
    {
     "name": "stdout",
     "output_type": "stream",
     "text": [
      "Keys in train data :  ['list_classes', 'train_set_x', 'train_set_y']\n",
      "Keys in test data :  ['list_classes', 'test_set_x', 'test_set_y']\n",
      "Train data shape : (209, 64, 64, 3)\n",
      "Test data shape : (50, 64, 64, 3)\n",
      "Output values : [b'non-cat' b'cat']\n"
     ]
    }
   ],
   "source": [
    "### Load data set\n",
    "original_train_x,original_train_y,original_test_x,original_test_y = load_data()"
   ]
  },
  {
   "cell_type": "code",
   "execution_count": 13,
   "metadata": {},
   "outputs": [
    {
     "name": "stdout",
     "output_type": "stream",
     "text": [
      "train_X shape : (12288, 209)\n",
      "train_y shape : (1, 209)\n",
      "test_X shape : (12288, 50)\n",
      "test_y shape : (1, 50)\n"
     ]
    }
   ],
   "source": [
    "### Reshape data(data preparation)\n",
    "train_X,train_y,test_X,test_y = prepare_data(original_train_x,original_train_y,original_test_x,original_test_y)"
   ]
  },
  {
   "cell_type": "code",
   "execution_count": 14,
   "metadata": {},
   "outputs": [],
   "source": [
    "## Normalize the values\n",
    "train_X = train_X/255\n",
    "test_X = test_X/255"
   ]
  },
  {
   "cell_type": "code",
   "execution_count": 15,
   "metadata": {},
   "outputs": [
    {
     "name": "stdout",
     "output_type": "stream",
     "text": [
      "Iteration 0 : 0.8185233398072594\n",
      "Iteration 100 : 0.9063136174858829\n",
      "Iteration 200 : 0.6803390974260219\n",
      "Iteration 300 : 0.5110283008756722\n",
      "Iteration 400 : 0.38050551471152916\n",
      "Iteration 500 : 0.28455582053955486\n",
      "Iteration 600 : 0.24184189719160187\n",
      "Iteration 700 : 0.22355738760893132\n",
      "Iteration 800 : 0.2079945997852959\n",
      "Iteration 900 : 0.19445985583126538\n",
      "Iteration 1000 : 0.1825510674593202\n",
      "Iteration 1100 : 0.1719795468858373\n",
      "Iteration 1200 : 0.1625267697982908\n",
      "Iteration 1300 : 0.1540220570536052\n",
      "Iteration 1400 : 0.146329166775462\n",
      "Iteration 1500 : 0.13933751899851993\n",
      "Iteration 1600 : 0.1329561440085124\n",
      "Iteration 1700 : 0.12710935690992675\n",
      "Iteration 1800 : 0.12173358117894606\n",
      "Iteration 1900 : 0.11677496439654833\n",
      "Iteration 2000 : 0.1121875554386181\n",
      "Iteration 2100 : 0.10793188883267571\n",
      "Iteration 2200 : 0.10397387027156019\n",
      "Iteration 2300 : 0.10028388874544018\n",
      "Iteration 2400 : 0.0968361018053072\n",
      "Iteration 2500 : 0.09360785487452847\n",
      "Iteration 2600 : 0.09057920558191046\n",
      "Iteration 2700 : 0.08773253124290908\n",
      "Iteration 2800 : 0.0850522027901988\n",
      "Iteration 2900 : 0.08252431225606369\n"
     ]
    }
   ],
   "source": [
    "a,z,w,b,dw,db,costs = model(train_X,train_y,iteration=3000,learning_rate=0.00003)"
   ]
  },
  {
   "cell_type": "code",
   "execution_count": 16,
   "metadata": {},
   "outputs": [
    {
     "data": {
      "text/plain": [
       "Text(0, 0.5, 'error')"
      ]
     },
     "execution_count": 16,
     "metadata": {},
     "output_type": "execute_result"
    },
    {
     "data": {
      "image/png": "[encoded data removed]",
      "text/plain": [
       "<Figure size 432x288 with 1 Axes>"
      ]
     },
     "metadata": {
      "needs_background": "light"
     },
     "output_type": "display_data"
    }
   ],
   "source": [
    "plt.plot(costs)\n",
    "plt.xlabel(\"itertaion\")\n",
    "plt.ylabel('error')"
   ]
  },
  {
   "cell_type": "code",
   "execution_count": 17,
   "metadata": {},
   "outputs": [],
   "source": [
    "train_predicted, train_predicted_class = predict(train_X,w,b)"
   ]
  },
  {
   "cell_type": "code",
   "execution_count": 18,
   "metadata": {},
   "outputs": [
    {
     "name": "stdout",
     "output_type": "stream",
     "text": [
      "Accuracy : 99.52153110047847%\n"
     ]
    }
   ],
   "source": [
    "### Train Accuracy\n",
    "model_accuracy(train_predicted_class,train_y)"
   ]
  },
  {
   "cell_type": "code",
   "execution_count": 19,
   "metadata": {},
   "outputs": [],
   "source": [
    "## Test accuracy and prediction\n",
    "test_predicted, test_predicted_class = predict(test_X,w,b)"
   ]
  },
  {
   "cell_type": "code",
   "execution_count": 20,
   "metadata": {},
   "outputs": [
    {
     "name": "stdout",
     "output_type": "stream",
     "text": [
      "Accuracy : 70.0%\n"
     ]
    }
   ],
   "source": [
    "model_accuracy(test_predicted_class,test_y)"
   ]
  },
  {
   "cell_type": "code",
   "execution_count": null,
   "metadata": {},
   "outputs": [],
   "source": []
  }
 ],
 "metadata": {
  "kernelspec": {
   "display_name": "Python 3",
   "language": "python",
   "name": "python3"
  },
  "language_info": {
   "codemirror_mode": {
    "name": "ipython",
    "version": 3
   },
   "file_extension": ".py",
   "mimetype": "text/x-python",
   "name": "python",
   "nbconvert_exporter": "python",
   "pygments_lexer": "ipython3",
   "version": "3.7.1"
  }
 },
 "nbformat": 4,
 "nbformat_minor": 2
}
